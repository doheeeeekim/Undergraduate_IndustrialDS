{
  "nbformat": 4,
  "nbformat_minor": 0,
  "metadata": {
    "colab": {
      "provenance": [],
      "authorship_tag": "ABX9TyMKF8eFP00qrqGCEoTirCFT",
      "include_colab_link": true
    },
    "kernelspec": {
      "name": "python3",
      "display_name": "Python 3"
    },
    "language_info": {
      "name": "python"
    }
  },
  "cells": [
    {
      "cell_type": "markdown",
      "metadata": {
        "id": "view-in-github",
        "colab_type": "text"
      },
      "source": [
        "<a href=\"https://colab.research.google.com/github/doheeeeekim/Undergraduate_IndustrialDS/blob/main/%EC%82%B0%EC%97%85%EB%8D%B0%EC%9D%B4%ED%84%B0%EA%B3%BC%ED%95%99_8%EC%A3%BC%EC%B0%A8%EA%B3%BC%EC%A0%9C_%ED%92%80%EC%9D%B4_2.ipynb\" target=\"_parent\"><img src=\"https://colab.research.google.com/assets/colab-badge.svg\" alt=\"Open In Colab\"/></a>"
      ]
    },
    {
      "cell_type": "markdown",
      "source": [
        "## 2.수업용 데이터 train, test로 나눠서 모델을 학습과 평가를 다 한 후, 과제용 데이터를 추가 testx로 두고 시행할 경우\n"
      ],
      "metadata": {
        "id": "i0BSnoYlIAIE"
      }
    },
    {
      "cell_type": "code",
      "source": [
        "import os\n",
        "import pandas as pd\n",
        "import numpy as np\n",
        "import matplotlib.pyplot as plt\n",
        "from google.colab import drive\n",
        "drive.mount('/content/drive')\n",
        "data_path = \"/content/drive/My Drive/Colab Notebooks/Data\" \n",
        "dt = pd.read_csv(data_path + '/cars_part_quality.csv')"
      ],
      "metadata": {
        "colab": {
          "base_uri": "https://localhost:8080/"
        },
        "id": "rkt7Y987IQtm",
        "outputId": "5a5d8fef-6a42-43bd-c9a0-e0341202d891"
      },
      "execution_count": null,
      "outputs": [
        {
          "output_type": "stream",
          "name": "stdout",
          "text": [
            "Mounted at /content/drive\n"
          ]
        }
      ]
    },
    {
      "cell_type": "code",
      "source": [
        "dt.head()"
      ],
      "metadata": {
        "colab": {
          "base_uri": "https://localhost:8080/",
          "height": 206
        },
        "id": "nHgvOjn3IbWp",
        "outputId": "ee64f761-4b68-49be-9814-97906b857b32"
      },
      "execution_count": null,
      "outputs": [
        {
          "output_type": "execute_result",
          "data": {
            "text/plain": [
              "         date_time   T1   T2   T3   T4   T5   T6   T7   T8   T9  T10  T11  \\\n",
              "0  2015-01-04 0:05  277  326  273  322  335  352  505  501  670  326  379   \n",
              "1  2015-01-04 1:05  277  253  272  320  333  355  500  501  687  337  396   \n",
              "2  2015-01-04 2:05  262  218  260  326  336  330  505  499  443  347  399   \n",
              "3  2015-01-04 3:05  243  238  252  327  329  308  520  498  540  342  387   \n",
              "4  2015-01-04 4:05  236  238  245  323  320  318  522  501  524  343  371   \n",
              "\n",
              "   T12  T13  T14  T15  observe1  observe2  quality  \n",
              "0  337  231  236  242    153.77      7.90      392  \n",
              "1  335  234  242  230    158.27      6.96      384  \n",
              "2  332  243  251  240    153.36      7.29      393  \n",
              "3  334  257  258  246    153.21      7.11      399  \n",
              "4  344  264  263  265    195.71      7.97      400  "
            ],
            "text/html": [
              "\n",
              "  <div id=\"df-b0d67855-f993-4913-980e-ac36ebc6af0b\">\n",
              "    <div class=\"colab-df-container\">\n",
              "      <div>\n",
              "<style scoped>\n",
              "    .dataframe tbody tr th:only-of-type {\n",
              "        vertical-align: middle;\n",
              "    }\n",
              "\n",
              "    .dataframe tbody tr th {\n",
              "        vertical-align: top;\n",
              "    }\n",
              "\n",
              "    .dataframe thead th {\n",
              "        text-align: right;\n",
              "    }\n",
              "</style>\n",
              "<table border=\"1\" class=\"dataframe\">\n",
              "  <thead>\n",
              "    <tr style=\"text-align: right;\">\n",
              "      <th></th>\n",
              "      <th>date_time</th>\n",
              "      <th>T1</th>\n",
              "      <th>T2</th>\n",
              "      <th>T3</th>\n",
              "      <th>T4</th>\n",
              "      <th>T5</th>\n",
              "      <th>T6</th>\n",
              "      <th>T7</th>\n",
              "      <th>T8</th>\n",
              "      <th>T9</th>\n",
              "      <th>T10</th>\n",
              "      <th>T11</th>\n",
              "      <th>T12</th>\n",
              "      <th>T13</th>\n",
              "      <th>T14</th>\n",
              "      <th>T15</th>\n",
              "      <th>observe1</th>\n",
              "      <th>observe2</th>\n",
              "      <th>quality</th>\n",
              "    </tr>\n",
              "  </thead>\n",
              "  <tbody>\n",
              "    <tr>\n",
              "      <th>0</th>\n",
              "      <td>2015-01-04 0:05</td>\n",
              "      <td>277</td>\n",
              "      <td>326</td>\n",
              "      <td>273</td>\n",
              "      <td>322</td>\n",
              "      <td>335</td>\n",
              "      <td>352</td>\n",
              "      <td>505</td>\n",
              "      <td>501</td>\n",
              "      <td>670</td>\n",
              "      <td>326</td>\n",
              "      <td>379</td>\n",
              "      <td>337</td>\n",
              "      <td>231</td>\n",
              "      <td>236</td>\n",
              "      <td>242</td>\n",
              "      <td>153.77</td>\n",
              "      <td>7.90</td>\n",
              "      <td>392</td>\n",
              "    </tr>\n",
              "    <tr>\n",
              "      <th>1</th>\n",
              "      <td>2015-01-04 1:05</td>\n",
              "      <td>277</td>\n",
              "      <td>253</td>\n",
              "      <td>272</td>\n",
              "      <td>320</td>\n",
              "      <td>333</td>\n",
              "      <td>355</td>\n",
              "      <td>500</td>\n",
              "      <td>501</td>\n",
              "      <td>687</td>\n",
              "      <td>337</td>\n",
              "      <td>396</td>\n",
              "      <td>335</td>\n",
              "      <td>234</td>\n",
              "      <td>242</td>\n",
              "      <td>230</td>\n",
              "      <td>158.27</td>\n",
              "      <td>6.96</td>\n",
              "      <td>384</td>\n",
              "    </tr>\n",
              "    <tr>\n",
              "      <th>2</th>\n",
              "      <td>2015-01-04 2:05</td>\n",
              "      <td>262</td>\n",
              "      <td>218</td>\n",
              "      <td>260</td>\n",
              "      <td>326</td>\n",
              "      <td>336</td>\n",
              "      <td>330</td>\n",
              "      <td>505</td>\n",
              "      <td>499</td>\n",
              "      <td>443</td>\n",
              "      <td>347</td>\n",
              "      <td>399</td>\n",
              "      <td>332</td>\n",
              "      <td>243</td>\n",
              "      <td>251</td>\n",
              "      <td>240</td>\n",
              "      <td>153.36</td>\n",
              "      <td>7.29</td>\n",
              "      <td>393</td>\n",
              "    </tr>\n",
              "    <tr>\n",
              "      <th>3</th>\n",
              "      <td>2015-01-04 3:05</td>\n",
              "      <td>243</td>\n",
              "      <td>238</td>\n",
              "      <td>252</td>\n",
              "      <td>327</td>\n",
              "      <td>329</td>\n",
              "      <td>308</td>\n",
              "      <td>520</td>\n",
              "      <td>498</td>\n",
              "      <td>540</td>\n",
              "      <td>342</td>\n",
              "      <td>387</td>\n",
              "      <td>334</td>\n",
              "      <td>257</td>\n",
              "      <td>258</td>\n",
              "      <td>246</td>\n",
              "      <td>153.21</td>\n",
              "      <td>7.11</td>\n",
              "      <td>399</td>\n",
              "    </tr>\n",
              "    <tr>\n",
              "      <th>4</th>\n",
              "      <td>2015-01-04 4:05</td>\n",
              "      <td>236</td>\n",
              "      <td>238</td>\n",
              "      <td>245</td>\n",
              "      <td>323</td>\n",
              "      <td>320</td>\n",
              "      <td>318</td>\n",
              "      <td>522</td>\n",
              "      <td>501</td>\n",
              "      <td>524</td>\n",
              "      <td>343</td>\n",
              "      <td>371</td>\n",
              "      <td>344</td>\n",
              "      <td>264</td>\n",
              "      <td>263</td>\n",
              "      <td>265</td>\n",
              "      <td>195.71</td>\n",
              "      <td>7.97</td>\n",
              "      <td>400</td>\n",
              "    </tr>\n",
              "  </tbody>\n",
              "</table>\n",
              "</div>\n",
              "      <button class=\"colab-df-convert\" onclick=\"convertToInteractive('df-b0d67855-f993-4913-980e-ac36ebc6af0b')\"\n",
              "              title=\"Convert this dataframe to an interactive table.\"\n",
              "              style=\"display:none;\">\n",
              "        \n",
              "  <svg xmlns=\"http://www.w3.org/2000/svg\" height=\"24px\"viewBox=\"0 0 24 24\"\n",
              "       width=\"24px\">\n",
              "    <path d=\"M0 0h24v24H0V0z\" fill=\"none\"/>\n",
              "    <path d=\"M18.56 5.44l.94 2.06.94-2.06 2.06-.94-2.06-.94-.94-2.06-.94 2.06-2.06.94zm-11 1L8.5 8.5l.94-2.06 2.06-.94-2.06-.94L8.5 2.5l-.94 2.06-2.06.94zm10 10l.94 2.06.94-2.06 2.06-.94-2.06-.94-.94-2.06-.94 2.06-2.06.94z\"/><path d=\"M17.41 7.96l-1.37-1.37c-.4-.4-.92-.59-1.43-.59-.52 0-1.04.2-1.43.59L10.3 9.45l-7.72 7.72c-.78.78-.78 2.05 0 2.83L4 21.41c.39.39.9.59 1.41.59.51 0 1.02-.2 1.41-.59l7.78-7.78 2.81-2.81c.8-.78.8-2.07 0-2.86zM5.41 20L4 18.59l7.72-7.72 1.47 1.35L5.41 20z\"/>\n",
              "  </svg>\n",
              "      </button>\n",
              "      \n",
              "  <style>\n",
              "    .colab-df-container {\n",
              "      display:flex;\n",
              "      flex-wrap:wrap;\n",
              "      gap: 12px;\n",
              "    }\n",
              "\n",
              "    .colab-df-convert {\n",
              "      background-color: #E8F0FE;\n",
              "      border: none;\n",
              "      border-radius: 50%;\n",
              "      cursor: pointer;\n",
              "      display: none;\n",
              "      fill: #1967D2;\n",
              "      height: 32px;\n",
              "      padding: 0 0 0 0;\n",
              "      width: 32px;\n",
              "    }\n",
              "\n",
              "    .colab-df-convert:hover {\n",
              "      background-color: #E2EBFA;\n",
              "      box-shadow: 0px 1px 2px rgba(60, 64, 67, 0.3), 0px 1px 3px 1px rgba(60, 64, 67, 0.15);\n",
              "      fill: #174EA6;\n",
              "    }\n",
              "\n",
              "    [theme=dark] .colab-df-convert {\n",
              "      background-color: #3B4455;\n",
              "      fill: #D2E3FC;\n",
              "    }\n",
              "\n",
              "    [theme=dark] .colab-df-convert:hover {\n",
              "      background-color: #434B5C;\n",
              "      box-shadow: 0px 1px 3px 1px rgba(0, 0, 0, 0.15);\n",
              "      filter: drop-shadow(0px 1px 2px rgba(0, 0, 0, 0.3));\n",
              "      fill: #FFFFFF;\n",
              "    }\n",
              "  </style>\n",
              "\n",
              "      <script>\n",
              "        const buttonEl =\n",
              "          document.querySelector('#df-b0d67855-f993-4913-980e-ac36ebc6af0b button.colab-df-convert');\n",
              "        buttonEl.style.display =\n",
              "          google.colab.kernel.accessAllowed ? 'block' : 'none';\n",
              "\n",
              "        async function convertToInteractive(key) {\n",
              "          const element = document.querySelector('#df-b0d67855-f993-4913-980e-ac36ebc6af0b');\n",
              "          const dataTable =\n",
              "            await google.colab.kernel.invokeFunction('convertToInteractive',\n",
              "                                                     [key], {});\n",
              "          if (!dataTable) return;\n",
              "\n",
              "          const docLinkHtml = 'Like what you see? Visit the ' +\n",
              "            '<a target=\"_blank\" href=https://colab.research.google.com/notebooks/data_table.ipynb>data table notebook</a>'\n",
              "            + ' to learn more about interactive tables.';\n",
              "          element.innerHTML = '';\n",
              "          dataTable['output_type'] = 'display_data';\n",
              "          await google.colab.output.renderOutput(dataTable, element);\n",
              "          const docLink = document.createElement('div');\n",
              "          docLink.innerHTML = docLinkHtml;\n",
              "          element.appendChild(docLink);\n",
              "        }\n",
              "      </script>\n",
              "    </div>\n",
              "  </div>\n",
              "  "
            ]
          },
          "metadata": {},
          "execution_count": 2
        }
      ]
    },
    {
      "cell_type": "code",
      "source": [
        "dt1= pd.read_csv(data_path + '/term_data_without_pred.csv')\n",
        "dt1.head()"
      ],
      "metadata": {
        "colab": {
          "base_uri": "https://localhost:8080/",
          "height": 206
        },
        "id": "-pAnp9PGIgB_",
        "outputId": "2aea5c7e-9722-4adf-d0ab-43006818cc7f"
      },
      "execution_count": null,
      "outputs": [
        {
          "output_type": "execute_result",
          "data": {
            "text/plain": [
              "          date_time   T1   T2   T3   T4   T5   T6   T7   T8   T9  T10  T11  \\\n",
              "0   2017-04-16 8:05  255  256  257  339  327  351  604  562  601  330  336   \n",
              "1   2017-04-16 9:05  206  264  251  347  352  375  569  574  661  343  338   \n",
              "2  2017-04-16 10:05  192  254  238  368  374  362  579  578  552  331  328   \n",
              "3  2017-04-16 11:05  256  236  217  350  350  345  589  580  833  338  341   \n",
              "4  2017-04-16 12:05  226  225  192  342  348  334  583  582  815  316  331   \n",
              "\n",
              "   T12  T13  T14  T15  observe1  observe2  \n",
              "0  317  285  275  276    190.21      6.67  \n",
              "1  327  285  282  285    170.96      7.56  \n",
              "2  297  285  286  286    171.84      7.21  \n",
              "3  213  284  287  284    174.71      8.78  \n",
              "4  249  280  286  283    174.55      6.89  "
            ],
            "text/html": [
              "\n",
              "  <div id=\"df-3512df7c-927c-4466-aa98-27012c794623\">\n",
              "    <div class=\"colab-df-container\">\n",
              "      <div>\n",
              "<style scoped>\n",
              "    .dataframe tbody tr th:only-of-type {\n",
              "        vertical-align: middle;\n",
              "    }\n",
              "\n",
              "    .dataframe tbody tr th {\n",
              "        vertical-align: top;\n",
              "    }\n",
              "\n",
              "    .dataframe thead th {\n",
              "        text-align: right;\n",
              "    }\n",
              "</style>\n",
              "<table border=\"1\" class=\"dataframe\">\n",
              "  <thead>\n",
              "    <tr style=\"text-align: right;\">\n",
              "      <th></th>\n",
              "      <th>date_time</th>\n",
              "      <th>T1</th>\n",
              "      <th>T2</th>\n",
              "      <th>T3</th>\n",
              "      <th>T4</th>\n",
              "      <th>T5</th>\n",
              "      <th>T6</th>\n",
              "      <th>T7</th>\n",
              "      <th>T8</th>\n",
              "      <th>T9</th>\n",
              "      <th>T10</th>\n",
              "      <th>T11</th>\n",
              "      <th>T12</th>\n",
              "      <th>T13</th>\n",
              "      <th>T14</th>\n",
              "      <th>T15</th>\n",
              "      <th>observe1</th>\n",
              "      <th>observe2</th>\n",
              "    </tr>\n",
              "  </thead>\n",
              "  <tbody>\n",
              "    <tr>\n",
              "      <th>0</th>\n",
              "      <td>2017-04-16 8:05</td>\n",
              "      <td>255</td>\n",
              "      <td>256</td>\n",
              "      <td>257</td>\n",
              "      <td>339</td>\n",
              "      <td>327</td>\n",
              "      <td>351</td>\n",
              "      <td>604</td>\n",
              "      <td>562</td>\n",
              "      <td>601</td>\n",
              "      <td>330</td>\n",
              "      <td>336</td>\n",
              "      <td>317</td>\n",
              "      <td>285</td>\n",
              "      <td>275</td>\n",
              "      <td>276</td>\n",
              "      <td>190.21</td>\n",
              "      <td>6.67</td>\n",
              "    </tr>\n",
              "    <tr>\n",
              "      <th>1</th>\n",
              "      <td>2017-04-16 9:05</td>\n",
              "      <td>206</td>\n",
              "      <td>264</td>\n",
              "      <td>251</td>\n",
              "      <td>347</td>\n",
              "      <td>352</td>\n",
              "      <td>375</td>\n",
              "      <td>569</td>\n",
              "      <td>574</td>\n",
              "      <td>661</td>\n",
              "      <td>343</td>\n",
              "      <td>338</td>\n",
              "      <td>327</td>\n",
              "      <td>285</td>\n",
              "      <td>282</td>\n",
              "      <td>285</td>\n",
              "      <td>170.96</td>\n",
              "      <td>7.56</td>\n",
              "    </tr>\n",
              "    <tr>\n",
              "      <th>2</th>\n",
              "      <td>2017-04-16 10:05</td>\n",
              "      <td>192</td>\n",
              "      <td>254</td>\n",
              "      <td>238</td>\n",
              "      <td>368</td>\n",
              "      <td>374</td>\n",
              "      <td>362</td>\n",
              "      <td>579</td>\n",
              "      <td>578</td>\n",
              "      <td>552</td>\n",
              "      <td>331</td>\n",
              "      <td>328</td>\n",
              "      <td>297</td>\n",
              "      <td>285</td>\n",
              "      <td>286</td>\n",
              "      <td>286</td>\n",
              "      <td>171.84</td>\n",
              "      <td>7.21</td>\n",
              "    </tr>\n",
              "    <tr>\n",
              "      <th>3</th>\n",
              "      <td>2017-04-16 11:05</td>\n",
              "      <td>256</td>\n",
              "      <td>236</td>\n",
              "      <td>217</td>\n",
              "      <td>350</td>\n",
              "      <td>350</td>\n",
              "      <td>345</td>\n",
              "      <td>589</td>\n",
              "      <td>580</td>\n",
              "      <td>833</td>\n",
              "      <td>338</td>\n",
              "      <td>341</td>\n",
              "      <td>213</td>\n",
              "      <td>284</td>\n",
              "      <td>287</td>\n",
              "      <td>284</td>\n",
              "      <td>174.71</td>\n",
              "      <td>8.78</td>\n",
              "    </tr>\n",
              "    <tr>\n",
              "      <th>4</th>\n",
              "      <td>2017-04-16 12:05</td>\n",
              "      <td>226</td>\n",
              "      <td>225</td>\n",
              "      <td>192</td>\n",
              "      <td>342</td>\n",
              "      <td>348</td>\n",
              "      <td>334</td>\n",
              "      <td>583</td>\n",
              "      <td>582</td>\n",
              "      <td>815</td>\n",
              "      <td>316</td>\n",
              "      <td>331</td>\n",
              "      <td>249</td>\n",
              "      <td>280</td>\n",
              "      <td>286</td>\n",
              "      <td>283</td>\n",
              "      <td>174.55</td>\n",
              "      <td>6.89</td>\n",
              "    </tr>\n",
              "  </tbody>\n",
              "</table>\n",
              "</div>\n",
              "      <button class=\"colab-df-convert\" onclick=\"convertToInteractive('df-3512df7c-927c-4466-aa98-27012c794623')\"\n",
              "              title=\"Convert this dataframe to an interactive table.\"\n",
              "              style=\"display:none;\">\n",
              "        \n",
              "  <svg xmlns=\"http://www.w3.org/2000/svg\" height=\"24px\"viewBox=\"0 0 24 24\"\n",
              "       width=\"24px\">\n",
              "    <path d=\"M0 0h24v24H0V0z\" fill=\"none\"/>\n",
              "    <path d=\"M18.56 5.44l.94 2.06.94-2.06 2.06-.94-2.06-.94-.94-2.06-.94 2.06-2.06.94zm-11 1L8.5 8.5l.94-2.06 2.06-.94-2.06-.94L8.5 2.5l-.94 2.06-2.06.94zm10 10l.94 2.06.94-2.06 2.06-.94-2.06-.94-.94-2.06-.94 2.06-2.06.94z\"/><path d=\"M17.41 7.96l-1.37-1.37c-.4-.4-.92-.59-1.43-.59-.52 0-1.04.2-1.43.59L10.3 9.45l-7.72 7.72c-.78.78-.78 2.05 0 2.83L4 21.41c.39.39.9.59 1.41.59.51 0 1.02-.2 1.41-.59l7.78-7.78 2.81-2.81c.8-.78.8-2.07 0-2.86zM5.41 20L4 18.59l7.72-7.72 1.47 1.35L5.41 20z\"/>\n",
              "  </svg>\n",
              "      </button>\n",
              "      \n",
              "  <style>\n",
              "    .colab-df-container {\n",
              "      display:flex;\n",
              "      flex-wrap:wrap;\n",
              "      gap: 12px;\n",
              "    }\n",
              "\n",
              "    .colab-df-convert {\n",
              "      background-color: #E8F0FE;\n",
              "      border: none;\n",
              "      border-radius: 50%;\n",
              "      cursor: pointer;\n",
              "      display: none;\n",
              "      fill: #1967D2;\n",
              "      height: 32px;\n",
              "      padding: 0 0 0 0;\n",
              "      width: 32px;\n",
              "    }\n",
              "\n",
              "    .colab-df-convert:hover {\n",
              "      background-color: #E2EBFA;\n",
              "      box-shadow: 0px 1px 2px rgba(60, 64, 67, 0.3), 0px 1px 3px 1px rgba(60, 64, 67, 0.15);\n",
              "      fill: #174EA6;\n",
              "    }\n",
              "\n",
              "    [theme=dark] .colab-df-convert {\n",
              "      background-color: #3B4455;\n",
              "      fill: #D2E3FC;\n",
              "    }\n",
              "\n",
              "    [theme=dark] .colab-df-convert:hover {\n",
              "      background-color: #434B5C;\n",
              "      box-shadow: 0px 1px 3px 1px rgba(0, 0, 0, 0.15);\n",
              "      filter: drop-shadow(0px 1px 2px rgba(0, 0, 0, 0.3));\n",
              "      fill: #FFFFFF;\n",
              "    }\n",
              "  </style>\n",
              "\n",
              "      <script>\n",
              "        const buttonEl =\n",
              "          document.querySelector('#df-3512df7c-927c-4466-aa98-27012c794623 button.colab-df-convert');\n",
              "        buttonEl.style.display =\n",
              "          google.colab.kernel.accessAllowed ? 'block' : 'none';\n",
              "\n",
              "        async function convertToInteractive(key) {\n",
              "          const element = document.querySelector('#df-3512df7c-927c-4466-aa98-27012c794623');\n",
              "          const dataTable =\n",
              "            await google.colab.kernel.invokeFunction('convertToInteractive',\n",
              "                                                     [key], {});\n",
              "          if (!dataTable) return;\n",
              "\n",
              "          const docLinkHtml = 'Like what you see? Visit the ' +\n",
              "            '<a target=\"_blank\" href=https://colab.research.google.com/notebooks/data_table.ipynb>data table notebook</a>'\n",
              "            + ' to learn more about interactive tables.';\n",
              "          element.innerHTML = '';\n",
              "          dataTable['output_type'] = 'display_data';\n",
              "          await google.colab.output.renderOutput(dataTable, element);\n",
              "          const docLink = document.createElement('div');\n",
              "          docLink.innerHTML = docLinkHtml;\n",
              "          element.appendChild(docLink);\n",
              "        }\n",
              "      </script>\n",
              "    </div>\n",
              "  </div>\n",
              "  "
            ]
          },
          "metadata": {},
          "execution_count": 3
        }
      ]
    },
    {
      "cell_type": "code",
      "source": [
        "# 품질 분포 확인하기\n",
        "plt.hist(dt['quality'],bins=20)"
      ],
      "metadata": {
        "colab": {
          "base_uri": "https://localhost:8080/",
          "height": 412
        },
        "id": "oCeUZf1QIj-H",
        "outputId": "0571bf98-1ac5-484e-b827-3c68d828358b"
      },
      "execution_count": null,
      "outputs": [
        {
          "output_type": "execute_result",
          "data": {
            "text/plain": [
              "(array([2.000e+00, 8.000e+00, 2.700e+01, 6.500e+01, 1.730e+02, 3.720e+02,\n",
              "        4.390e+02, 6.820e+02, 8.760e+02, 1.203e+03, 1.699e+03, 1.842e+03,\n",
              "        2.138e+03, 2.283e+03, 2.267e+03, 2.461e+03, 1.913e+03, 1.139e+03,\n",
              "        3.770e+02, 3.400e+01]),\n",
              " array([221. , 235.2, 249.4, 263.6, 277.8, 292. , 306.2, 320.4, 334.6,\n",
              "        348.8, 363. , 377.2, 391.4, 405.6, 419.8, 434. , 448.2, 462.4,\n",
              "        476.6, 490.8, 505. ]),\n",
              " <a list of 20 Patch objects>)"
            ]
          },
          "metadata": {},
          "execution_count": 4
        },
        {
          "output_type": "display_data",
          "data": {
            "text/plain": [
              "<Figure size 432x288 with 1 Axes>"
            ],
            "image/png": "[encoded data removed]"
          },
          "metadata": {
            "needs_background": "light"
          }
        }
      ]
    },
    {
      "cell_type": "code",
      "source": [
        "# 3개 라벨로 분리\n",
        "# 33% 미만 (나쁨)\n",
        "# 33% 이상 66% 미만 (보통)\n",
        "# 66% 이상 (좋음)\n",
        "\n",
        "dt = dt.sort_values(['quality']).reset_index(drop=True)\n",
        "print(dt)\n",
        "label = []\n",
        "for i in range(len(dt)):\n",
        "  if i < int(np.round(len(dt)*0.33)):\n",
        "    label.append(0)\n",
        "  elif i >= int(np.round(len(dt)*0.33)) and i< int(np.round(len(dt)*0.66)):\n",
        "    label.append(1)\n",
        "  else:\n",
        "    label.append(2)"
      ],
      "metadata": {
        "colab": {
          "base_uri": "https://localhost:8080/"
        },
        "id": "6BSjKx-FImRP",
        "outputId": "5758b83b-98d2-4a73-ab39-8eea450c8bf0"
      },
      "execution_count": null,
      "outputs": [
        {
          "output_type": "stream",
          "name": "stdout",
          "text": [
            "              date_time   T1   T2   T3   T4   T5   T6   T7   T8   T9  T10  \\\n",
            "0       2016-04-18 5:05  206  204  204  421  310  421  576  583  665  317   \n",
            "1      2016-06-02 23:05  206  215  205  305  299  288  588  617  598  437   \n",
            "2       2016-04-18 6:05  195  197  207  398  307  474  555  574  586  302   \n",
            "3      2016-05-16 12:05  260  247  247  312  324  308  590  607  599  355   \n",
            "4      2015-04-29 21:05  237  233  242  313  305  322  579  567  576  337   \n",
            "...                 ...  ...  ...  ...  ...  ...  ...  ...  ...  ...  ...   \n",
            "19995  2015-02-17 23:05  309  311  303  337  327  340  391  403  418  394   \n",
            "19996  2015-02-17 22:05  308  313  299  349  355  342  397  404  392  381   \n",
            "19997   2015-02-18 0:05  299  300  300  348  338  341  403  397  368  409   \n",
            "19998  2015-02-17 21:05  305  311  311  346  343  339  402  405  406  380   \n",
            "19999   2015-02-18 1:05  293  282  290  355  357  357  414  391  308  408   \n",
            "\n",
            "       T11  T12  T13  T14  T15  observe1  observe2  quality  \n",
            "0      326  305  220  210  206    158.84      7.54      221  \n",
            "1      383  404  246  202  191    165.98      7.59      229  \n",
            "2      282  308  200  205  211    159.45      8.97      242  \n",
            "3      339  353  215  202  203    154.51      9.45      242  \n",
            "4      346  353  230  228  225    159.95      7.58      246  \n",
            "...    ...  ...  ...  ...  ...       ...       ...      ...  \n",
            "19995  399  386  297  290  297    182.27      8.39      501  \n",
            "19996  405  399  295  292  297    185.75      7.41      501  \n",
            "19997  382  390  300  292  299    183.53      5.69      501  \n",
            "19998  398  384  296  297  298    182.08      7.46      503  \n",
            "19999  373  370  293  296  298    185.73      8.01      505  \n",
            "\n",
            "[20000 rows x 19 columns]\n"
          ]
        }
      ]
    },
    {
      "cell_type": "code",
      "source": [
        "label= pd.DataFrame(label)\n",
        "counts = label.value_counts()\n",
        "print(counts)"
      ],
      "metadata": {
        "colab": {
          "base_uri": "https://localhost:8080/"
        },
        "id": "MzlqNdWsIowt",
        "outputId": "ab3be7b1-eb46-43ee-fb77-f2d29ab263bd"
      },
      "execution_count": null,
      "outputs": [
        {
          "output_type": "stream",
          "name": "stdout",
          "text": [
            "2    6800\n",
            "0    6600\n",
            "1    6600\n",
            "dtype: int64\n"
          ]
        }
      ]
    },
    {
      "cell_type": "code",
      "source": [
        "x=dt.iloc[:,1:18]\n",
        "col=x.columns\n",
        "x.info()"
      ],
      "metadata": {
        "colab": {
          "base_uri": "https://localhost:8080/"
        },
        "id": "W-9XevF0Isir",
        "outputId": "ae190770-44e6-44d2-98ff-40e3dacd707e"
      },
      "execution_count": null,
      "outputs": [
        {
          "output_type": "stream",
          "name": "stdout",
          "text": [
            "<class 'pandas.core.frame.DataFrame'>\n",
            "RangeIndex: 20000 entries, 0 to 19999\n",
            "Data columns (total 17 columns):\n",
            " #   Column    Non-Null Count  Dtype  \n",
            "---  ------    --------------  -----  \n",
            " 0   T1        20000 non-null  int64  \n",
            " 1   T2        20000 non-null  int64  \n",
            " 2   T3        20000 non-null  int64  \n",
            " 3   T4        20000 non-null  int64  \n",
            " 4   T5        20000 non-null  int64  \n",
            " 5   T6        20000 non-null  int64  \n",
            " 6   T7        20000 non-null  int64  \n",
            " 7   T8        20000 non-null  int64  \n",
            " 8   T9        20000 non-null  int64  \n",
            " 9   T10       20000 non-null  int64  \n",
            " 10  T11       20000 non-null  int64  \n",
            " 11  T12       20000 non-null  int64  \n",
            " 12  T13       20000 non-null  int64  \n",
            " 13  T14       20000 non-null  int64  \n",
            " 14  T15       20000 non-null  int64  \n",
            " 15  observe1  20000 non-null  float64\n",
            " 16  observe2  20000 non-null  float64\n",
            "dtypes: float64(2), int64(15)\n",
            "memory usage: 2.6 MB\n"
          ]
        }
      ]
    },
    {
      "cell_type": "code",
      "source": [
        "#헷갈릴 수 있으니 add_testx로 정의\n",
        "add_testx=dt1.iloc[:,1:18]\n",
        "col1=add_testx.columns\n",
        "add_testx.info()"
      ],
      "metadata": {
        "colab": {
          "base_uri": "https://localhost:8080/"
        },
        "id": "ibl61yaLI2D1",
        "outputId": "af490901-9d6c-4f53-ad0f-07d68759ee9e"
      },
      "execution_count": null,
      "outputs": [
        {
          "output_type": "stream",
          "name": "stdout",
          "text": [
            "<class 'pandas.core.frame.DataFrame'>\n",
            "RangeIndex: 9184 entries, 0 to 9183\n",
            "Data columns (total 17 columns):\n",
            " #   Column    Non-Null Count  Dtype  \n",
            "---  ------    --------------  -----  \n",
            " 0   T1        9184 non-null   int64  \n",
            " 1   T2        9184 non-null   int64  \n",
            " 2   T3        9184 non-null   int64  \n",
            " 3   T4        9184 non-null   int64  \n",
            " 4   T5        9184 non-null   int64  \n",
            " 5   T6        9184 non-null   int64  \n",
            " 6   T7        9184 non-null   int64  \n",
            " 7   T8        9184 non-null   int64  \n",
            " 8   T9        9184 non-null   int64  \n",
            " 9   T10       9184 non-null   int64  \n",
            " 10  T11       9184 non-null   int64  \n",
            " 11  T12       9184 non-null   int64  \n",
            " 12  T13       9184 non-null   int64  \n",
            " 13  T14       9184 non-null   int64  \n",
            " 14  T15       9184 non-null   int64  \n",
            " 15  observe1  9184 non-null   float64\n",
            " 16  observe2  9184 non-null   float64\n",
            "dtypes: float64(2), int64(15)\n",
            "memory usage: 1.2 MB\n"
          ]
        }
      ]
    },
    {
      "cell_type": "code",
      "source": [
        "#과제용데이터와 실습용데이터 합쳐주기\n",
        "sum_x= pd.concat([x, add_testx],axis=0)\n",
        "sum_x"
      ],
      "metadata": {
        "colab": {
          "base_uri": "https://localhost:8080/",
          "height": 424
        },
        "id": "9BM9FS0LJDdp",
        "outputId": "44d1426e-cedd-4096-e78f-2d3048dcd101"
      },
      "execution_count": null,
      "outputs": [
        {
          "output_type": "execute_result",
          "data": {
            "text/plain": [
              "       T1   T2   T3   T4   T5   T6   T7   T8   T9  T10  T11  T12  T13  T14  \\\n",
              "0     206  204  204  421  310  421  576  583  665  317  326  305  220  210   \n",
              "1     206  215  205  305  299  288  588  617  598  437  383  404  246  202   \n",
              "2     195  197  207  398  307  474  555  574  586  302  282  308  200  205   \n",
              "3     260  247  247  312  324  308  590  607  599  355  339  353  215  202   \n",
              "4     237  233  242  313  305  322  579  567  576  337  346  353  230  228   \n",
              "...   ...  ...  ...  ...  ...  ...  ...  ...  ...  ...  ...  ...  ...  ...   \n",
              "9179  257  258  266  379  381  358  449  386  461  354  350  349  234  254   \n",
              "9180  259  255  260  372  367  362  431  461  453  360  344  348  235  253   \n",
              "9181  260  254  263  364  349  352  429  425  446  348  360  345  256  257   \n",
              "9182  255  255  260  356  352  354  438  468  441  347  357  344  254  265   \n",
              "9183  254  257  256  349  350  355  451  454  439  347  342  331  255  266   \n",
              "\n",
              "      T15  observe1  observe2  \n",
              "0     206    158.84      7.54  \n",
              "1     191    165.98      7.59  \n",
              "2     211    159.45      8.97  \n",
              "3     203    154.51      9.45  \n",
              "4     225    159.95      7.58  \n",
              "...   ...       ...       ...  \n",
              "9179  252    157.47      7.33  \n",
              "9180  247    157.17      7.87  \n",
              "9181  247    155.00      7.65  \n",
              "9182  248    153.89      8.90  \n",
              "9183  245    157.46      6.39  \n",
              "\n",
              "[29184 rows x 17 columns]"
            ],
            "text/html": [
              "\n",
              "  <div id=\"df-c9c49a31-2e94-4186-a5c3-c3080d542bca\">\n",
              "    <div class=\"colab-df-container\">\n",
              "      <div>\n",
              "<style scoped>\n",
              "    .dataframe tbody tr th:only-of-type {\n",
              "        vertical-align: middle;\n",
              "    }\n",
              "\n",
              "    .dataframe tbody tr th {\n",
              "        vertical-align: top;\n",
              "    }\n",
              "\n",
              "    .dataframe thead th {\n",
              "        text-align: right;\n",
              "    }\n",
              "</style>\n",
              "<table border=\"1\" class=\"dataframe\">\n",
              "  <thead>\n",
              "    <tr style=\"text-align: right;\">\n",
              "      <th></th>\n",
              "      <th>T1</th>\n",
              "      <th>T2</th>\n",
              "      <th>T3</th>\n",
              "      <th>T4</th>\n",
              "      <th>T5</th>\n",
              "      <th>T6</th>\n",
              "      <th>T7</th>\n",
              "      <th>T8</th>\n",
              "      <th>T9</th>\n",
              "      <th>T10</th>\n",
              "      <th>T11</th>\n",
              "      <th>T12</th>\n",
              "      <th>T13</th>\n",
              "      <th>T14</th>\n",
              "      <th>T15</th>\n",
              "      <th>observe1</th>\n",
              "      <th>observe2</th>\n",
              "    </tr>\n",
              "  </thead>\n",
              "  <tbody>\n",
              "    <tr>\n",
              "      <th>0</th>\n",
              "      <td>206</td>\n",
              "      <td>204</td>\n",
              "      <td>204</td>\n",
              "      <td>421</td>\n",
              "      <td>310</td>\n",
              "      <td>421</td>\n",
              "      <td>576</td>\n",
              "      <td>583</td>\n",
              "      <td>665</td>\n",
              "      <td>317</td>\n",
              "      <td>326</td>\n",
              "      <td>305</td>\n",
              "      <td>220</td>\n",
              "      <td>210</td>\n",
              "      <td>206</td>\n",
              "      <td>158.84</td>\n",
              "      <td>7.54</td>\n",
              "    </tr>\n",
              "    <tr>\n",
              "      <th>1</th>\n",
              "      <td>206</td>\n",
              "      <td>215</td>\n",
              "      <td>205</td>\n",
              "      <td>305</td>\n",
              "      <td>299</td>\n",
              "      <td>288</td>\n",
              "      <td>588</td>\n",
              "      <td>617</td>\n",
              "      <td>598</td>\n",
              "      <td>437</td>\n",
              "      <td>383</td>\n",
              "      <td>404</td>\n",
              "      <td>246</td>\n",
              "      <td>202</td>\n",
              "      <td>191</td>\n",
              "      <td>165.98</td>\n",
              "      <td>7.59</td>\n",
              "    </tr>\n",
              "    <tr>\n",
              "      <th>2</th>\n",
              "      <td>195</td>\n",
              "      <td>197</td>\n",
              "      <td>207</td>\n",
              "      <td>398</td>\n",
              "      <td>307</td>\n",
              "      <td>474</td>\n",
              "      <td>555</td>\n",
              "      <td>574</td>\n",
              "      <td>586</td>\n",
              "      <td>302</td>\n",
              "      <td>282</td>\n",
              "      <td>308</td>\n",
              "      <td>200</td>\n",
              "      <td>205</td>\n",
              "      <td>211</td>\n",
              "      <td>159.45</td>\n",
              "      <td>8.97</td>\n",
              "    </tr>\n",
              "    <tr>\n",
              "      <th>3</th>\n",
              "      <td>260</td>\n",
              "      <td>247</td>\n",
              "      <td>247</td>\n",
              "      <td>312</td>\n",
              "      <td>324</td>\n",
              "      <td>308</td>\n",
              "      <td>590</td>\n",
              "      <td>607</td>\n",
              "      <td>599</td>\n",
              "      <td>355</td>\n",
              "      <td>339</td>\n",
              "      <td>353</td>\n",
              "      <td>215</td>\n",
              "      <td>202</td>\n",
              "      <td>203</td>\n",
              "      <td>154.51</td>\n",
              "      <td>9.45</td>\n",
              "    </tr>\n",
              "    <tr>\n",
              "      <th>4</th>\n",
              "      <td>237</td>\n",
              "      <td>233</td>\n",
              "      <td>242</td>\n",
              "      <td>313</td>\n",
              "      <td>305</td>\n",
              "      <td>322</td>\n",
              "      <td>579</td>\n",
              "      <td>567</td>\n",
              "      <td>576</td>\n",
              "      <td>337</td>\n",
              "      <td>346</td>\n",
              "      <td>353</td>\n",
              "      <td>230</td>\n",
              "      <td>228</td>\n",
              "      <td>225</td>\n",
              "      <td>159.95</td>\n",
              "      <td>7.58</td>\n",
              "    </tr>\n",
              "    <tr>\n",
              "      <th>...</th>\n",
              "      <td>...</td>\n",
              "      <td>...</td>\n",
              "      <td>...</td>\n",
              "      <td>...</td>\n",
              "      <td>...</td>\n",
              "      <td>...</td>\n",
              "      <td>...</td>\n",
              "      <td>...</td>\n",
              "      <td>...</td>\n",
              "      <td>...</td>\n",
              "      <td>...</td>\n",
              "      <td>...</td>\n",
              "      <td>...</td>\n",
              "      <td>...</td>\n",
              "      <td>...</td>\n",
              "      <td>...</td>\n",
              "      <td>...</td>\n",
              "    </tr>\n",
              "    <tr>\n",
              "      <th>9179</th>\n",
              "      <td>257</td>\n",
              "      <td>258</td>\n",
              "      <td>266</td>\n",
              "      <td>379</td>\n",
              "      <td>381</td>\n",
              "      <td>358</td>\n",
              "      <td>449</td>\n",
              "      <td>386</td>\n",
              "      <td>461</td>\n",
              "      <td>354</td>\n",
              "      <td>350</td>\n",
              "      <td>349</td>\n",
              "      <td>234</td>\n",
              "      <td>254</td>\n",
              "      <td>252</td>\n",
              "      <td>157.47</td>\n",
              "      <td>7.33</td>\n",
              "    </tr>\n",
              "    <tr>\n",
              "      <th>9180</th>\n",
              "      <td>259</td>\n",
              "      <td>255</td>\n",
              "      <td>260</td>\n",
              "      <td>372</td>\n",
              "      <td>367</td>\n",
              "      <td>362</td>\n",
              "      <td>431</td>\n",
              "      <td>461</td>\n",
              "      <td>453</td>\n",
              "      <td>360</td>\n",
              "      <td>344</td>\n",
              "      <td>348</td>\n",
              "      <td>235</td>\n",
              "      <td>253</td>\n",
              "      <td>247</td>\n",
              "      <td>157.17</td>\n",
              "      <td>7.87</td>\n",
              "    </tr>\n",
              "    <tr>\n",
              "      <th>9181</th>\n",
              "      <td>260</td>\n",
              "      <td>254</td>\n",
              "      <td>263</td>\n",
              "      <td>364</td>\n",
              "      <td>349</td>\n",
              "      <td>352</td>\n",
              "      <td>429</td>\n",
              "      <td>425</td>\n",
              "      <td>446</td>\n",
              "      <td>348</td>\n",
              "      <td>360</td>\n",
              "      <td>345</td>\n",
              "      <td>256</td>\n",
              "      <td>257</td>\n",
              "      <td>247</td>\n",
              "      <td>155.00</td>\n",
              "      <td>7.65</td>\n",
              "    </tr>\n",
              "    <tr>\n",
              "      <th>9182</th>\n",
              "      <td>255</td>\n",
              "      <td>255</td>\n",
              "      <td>260</td>\n",
              "      <td>356</td>\n",
              "      <td>352</td>\n",
              "      <td>354</td>\n",
              "      <td>438</td>\n",
              "      <td>468</td>\n",
              "      <td>441</td>\n",
              "      <td>347</td>\n",
              "      <td>357</td>\n",
              "      <td>344</td>\n",
              "      <td>254</td>\n",
              "      <td>265</td>\n",
              "      <td>248</td>\n",
              "      <td>153.89</td>\n",
              "      <td>8.90</td>\n",
              "    </tr>\n",
              "    <tr>\n",
              "      <th>9183</th>\n",
              "      <td>254</td>\n",
              "      <td>257</td>\n",
              "      <td>256</td>\n",
              "      <td>349</td>\n",
              "      <td>350</td>\n",
              "      <td>355</td>\n",
              "      <td>451</td>\n",
              "      <td>454</td>\n",
              "      <td>439</td>\n",
              "      <td>347</td>\n",
              "      <td>342</td>\n",
              "      <td>331</td>\n",
              "      <td>255</td>\n",
              "      <td>266</td>\n",
              "      <td>245</td>\n",
              "      <td>157.46</td>\n",
              "      <td>6.39</td>\n",
              "    </tr>\n",
              "  </tbody>\n",
              "</table>\n",
              "<p>29184 rows × 17 columns</p>\n",
              "</div>\n",
              "      <button class=\"colab-df-convert\" onclick=\"convertToInteractive('df-c9c49a31-2e94-4186-a5c3-c3080d542bca')\"\n",
              "              title=\"Convert this dataframe to an interactive table.\"\n",
              "              style=\"display:none;\">\n",
              "        \n",
              "  <svg xmlns=\"http://www.w3.org/2000/svg\" height=\"24px\"viewBox=\"0 0 24 24\"\n",
              "       width=\"24px\">\n",
              "    <path d=\"M0 0h24v24H0V0z\" fill=\"none\"/>\n",
              "    <path d=\"M18.56 5.44l.94 2.06.94-2.06 2.06-.94-2.06-.94-.94-2.06-.94 2.06-2.06.94zm-11 1L8.5 8.5l.94-2.06 2.06-.94-2.06-.94L8.5 2.5l-.94 2.06-2.06.94zm10 10l.94 2.06.94-2.06 2.06-.94-2.06-.94-.94-2.06-.94 2.06-2.06.94z\"/><path d=\"M17.41 7.96l-1.37-1.37c-.4-.4-.92-.59-1.43-.59-.52 0-1.04.2-1.43.59L10.3 9.45l-7.72 7.72c-.78.78-.78 2.05 0 2.83L4 21.41c.39.39.9.59 1.41.59.51 0 1.02-.2 1.41-.59l7.78-7.78 2.81-2.81c.8-.78.8-2.07 0-2.86zM5.41 20L4 18.59l7.72-7.72 1.47 1.35L5.41 20z\"/>\n",
              "  </svg>\n",
              "      </button>\n",
              "      \n",
              "  <style>\n",
              "    .colab-df-container {\n",
              "      display:flex;\n",
              "      flex-wrap:wrap;\n",
              "      gap: 12px;\n",
              "    }\n",
              "\n",
              "    .colab-df-convert {\n",
              "      background-color: #E8F0FE;\n",
              "      border: none;\n",
              "      border-radius: 50%;\n",
              "      cursor: pointer;\n",
              "      display: none;\n",
              "      fill: #1967D2;\n",
              "      height: 32px;\n",
              "      padding: 0 0 0 0;\n",
              "      width: 32px;\n",
              "    }\n",
              "\n",
              "    .colab-df-convert:hover {\n",
              "      background-color: #E2EBFA;\n",
              "      box-shadow: 0px 1px 2px rgba(60, 64, 67, 0.3), 0px 1px 3px 1px rgba(60, 64, 67, 0.15);\n",
              "      fill: #174EA6;\n",
              "    }\n",
              "\n",
              "    [theme=dark] .colab-df-convert {\n",
              "      background-color: #3B4455;\n",
              "      fill: #D2E3FC;\n",
              "    }\n",
              "\n",
              "    [theme=dark] .colab-df-convert:hover {\n",
              "      background-color: #434B5C;\n",
              "      box-shadow: 0px 1px 3px 1px rgba(0, 0, 0, 0.15);\n",
              "      filter: drop-shadow(0px 1px 2px rgba(0, 0, 0, 0.3));\n",
              "      fill: #FFFFFF;\n",
              "    }\n",
              "  </style>\n",
              "\n",
              "      <script>\n",
              "        const buttonEl =\n",
              "          document.querySelector('#df-c9c49a31-2e94-4186-a5c3-c3080d542bca button.colab-df-convert');\n",
              "        buttonEl.style.display =\n",
              "          google.colab.kernel.accessAllowed ? 'block' : 'none';\n",
              "\n",
              "        async function convertToInteractive(key) {\n",
              "          const element = document.querySelector('#df-c9c49a31-2e94-4186-a5c3-c3080d542bca');\n",
              "          const dataTable =\n",
              "            await google.colab.kernel.invokeFunction('convertToInteractive',\n",
              "                                                     [key], {});\n",
              "          if (!dataTable) return;\n",
              "\n",
              "          const docLinkHtml = 'Like what you see? Visit the ' +\n",
              "            '<a target=\"_blank\" href=https://colab.research.google.com/notebooks/data_table.ipynb>data table notebook</a>'\n",
              "            + ' to learn more about interactive tables.';\n",
              "          element.innerHTML = '';\n",
              "          dataTable['output_type'] = 'display_data';\n",
              "          await google.colab.output.renderOutput(dataTable, element);\n",
              "          const docLink = document.createElement('div');\n",
              "          docLink.innerHTML = docLinkHtml;\n",
              "          element.appendChild(docLink);\n",
              "        }\n",
              "      </script>\n",
              "    </div>\n",
              "  </div>\n",
              "  "
            ]
          },
          "metadata": {},
          "execution_count": 10
        }
      ]
    },
    {
      "cell_type": "code",
      "source": [
        "#MinMaxScale 해주기\n",
        "import sklearn.preprocessing \n",
        "scaler = sklearn.preprocessing.MinMaxScaler()\n",
        "sum_x = scaler.fit_transform(sum_x)"
      ],
      "metadata": {
        "id": "tj6W5QqnJI_M"
      },
      "execution_count": null,
      "outputs": []
    },
    {
      "cell_type": "code",
      "source": [
        "#다시 수업용, 과제용 데이터로 구분해주기\n",
        "x=sum_x[:20000]\n",
        "add_testx=sum_x[20000:]"
      ],
      "metadata": {
        "id": "lPPC1ny_JLDE"
      },
      "execution_count": null,
      "outputs": []
    },
    {
      "cell_type": "code",
      "source": [
        "from sklearn.model_selection import train_test_split\n",
        "trainx, testx, trainy, testy  = train_test_split(x,label, test_size=0.3)\n"
      ],
      "metadata": {
        "id": "GDMLUkdfJnA5"
      },
      "execution_count": null,
      "outputs": []
    },
    {
      "cell_type": "code",
      "source": [
        "print(len(trainx))\n",
        "print(len(trainy))\n",
        "print(len(testx))\n",
        "print(len(testy))"
      ],
      "metadata": {
        "colab": {
          "base_uri": "https://localhost:8080/"
        },
        "id": "kFjYbKefKAqf",
        "outputId": "c7fa02a6-a6b2-43cd-f059-15f9f510f478"
      },
      "execution_count": null,
      "outputs": [
        {
          "output_type": "stream",
          "name": "stdout",
          "text": [
            "14000\n",
            "14000\n",
            "6000\n",
            "6000\n"
          ]
        }
      ]
    },
    {
      "cell_type": "code",
      "source": [
        "trainy = trainy.to_numpy()\n",
        "testy = testy.to_numpy()"
      ],
      "metadata": {
        "id": "Wk6weh3VKDAI"
      },
      "execution_count": null,
      "outputs": []
    },
    {
      "cell_type": "markdown",
      "source": [
        "#*랜덤포레스트*"
      ],
      "metadata": {
        "id": "bb9P6Zw1KRSQ"
      }
    },
    {
      "cell_type": "code",
      "source": [
        "from sklearn.ensemble import RandomForestClassifier"
      ],
      "metadata": {
        "id": "Hbev2ccwKTlf"
      },
      "execution_count": null,
      "outputs": []
    },
    {
      "cell_type": "code",
      "source": [
        "model = RandomForestClassifier(n_estimators = 100, \n",
        "                              criterion = 'entropy',\n",
        "                              max_depth = 12,\n",
        "                              min_samples_leaf = 20,\n",
        "                              min_samples_split = 20,\n",
        "                              random_state = 0,\n",
        "                              n_jobs = -1)"
      ],
      "metadata": {
        "id": "RFJtNFAXKVIB"
      },
      "execution_count": null,
      "outputs": []
    },
    {
      "cell_type": "code",
      "source": [
        "model = RandomForestClassifier()"
      ],
      "metadata": {
        "id": "hM7xYrYlKWqx"
      },
      "execution_count": null,
      "outputs": []
    },
    {
      "cell_type": "code",
      "source": [
        "trainy.shape\n",
        "trainy = trainy.reshape(-1)\n"
      ],
      "metadata": {
        "id": "LeGrnA0sKYCv"
      },
      "execution_count": null,
      "outputs": []
    },
    {
      "cell_type": "code",
      "source": [
        "model = model.fit(trainx, trainy)"
      ],
      "metadata": {
        "id": "ZdzfJAoIKa6J"
      },
      "execution_count": null,
      "outputs": []
    },
    {
      "cell_type": "code",
      "source": [
        "pred_test = model.predict(testx)"
      ],
      "metadata": {
        "id": "DtLZWcVWKgvT"
      },
      "execution_count": null,
      "outputs": []
    },
    {
      "cell_type": "code",
      "source": [
        "from sklearn.metrics import confusion_matrix\n",
        "m=confusion_matrix(testy, pred_test)\n",
        "print(m)"
      ],
      "metadata": {
        "colab": {
          "base_uri": "https://localhost:8080/"
        },
        "id": "O35wyhZVKn3S",
        "outputId": "5d0cf6cd-bb70-47bb-907c-7886412bdf74"
      },
      "execution_count": null,
      "outputs": [
        {
          "output_type": "stream",
          "name": "stdout",
          "text": [
            "[[1740  240    1]\n",
            " [ 232 1556  217]\n",
            " [   1  215 1798]]\n"
          ]
        }
      ]
    },
    {
      "cell_type": "code",
      "source": [
        "acc = np.sum(np.diag(m))/len(testy)\n",
        "print('검증 데이터에 대한 정확도는 {:2f}% 입니다'.format(acc*100))"
      ],
      "metadata": {
        "colab": {
          "base_uri": "https://localhost:8080/"
        },
        "id": "XmaA3KpgKw0T",
        "outputId": "11a31ae6-e1e9-4a95-eb7f-cb2fabff61b1"
      },
      "execution_count": null,
      "outputs": [
        {
          "output_type": "stream",
          "name": "stdout",
          "text": [
            "검증 데이터에 대한 정확도는 84.900000% 입니다\n"
          ]
        }
      ]
    },
    {
      "cell_type": "code",
      "source": [
        "res = []\n",
        "for i in range(20):\n",
        "  \n",
        "  model = RandomForestClassifier(n_estimators = i+1, \n",
        "                                max_depth = 12,\n",
        "                                min_samples_leaf = 5,\n",
        "                                min_samples_split = 5,\n",
        "                                random_state = 0,\n",
        "                                n_jobs = -1)\n",
        "  \n",
        "  model = model.fit(trainx, trainy)\n",
        "  pred_test = model.predict(testx)\n",
        "  m = confusion_matrix(testy, pred_test)\n",
        "  acc = np.sum(np.diag(m))/len(testy)\n",
        "  res.append(acc)\n",
        "  print('{}개 트리를 부스트랩한 결과의  정확도는 {:4f}% 입니다'.format(i+1,acc*100))"
      ],
      "metadata": {
        "colab": {
          "base_uri": "https://localhost:8080/"
        },
        "id": "ix4sn5CCK4e-",
        "outputId": "04ddf271-e421-4203-ca10-b97306d334bc"
      },
      "execution_count": null,
      "outputs": [
        {
          "output_type": "stream",
          "name": "stdout",
          "text": [
            "1개 트리를 부스트랩한 결과의  정확도는 75.183333% 입니다\n",
            "2개 트리를 부스트랩한 결과의  정확도는 78.383333% 입니다\n",
            "3개 트리를 부스트랩한 결과의  정확도는 79.666667% 입니다\n",
            "4개 트리를 부스트랩한 결과의  정확도는 80.416667% 입니다\n",
            "5개 트리를 부스트랩한 결과의  정확도는 81.483333% 입니다\n",
            "6개 트리를 부스트랩한 결과의  정확도는 81.916667% 입니다\n",
            "7개 트리를 부스트랩한 결과의  정확도는 82.583333% 입니다\n",
            "8개 트리를 부스트랩한 결과의  정확도는 82.900000% 입니다\n",
            "9개 트리를 부스트랩한 결과의  정확도는 82.883333% 입니다\n",
            "10개 트리를 부스트랩한 결과의  정확도는 83.300000% 입니다\n",
            "11개 트리를 부스트랩한 결과의  정확도는 83.550000% 입니다\n",
            "12개 트리를 부스트랩한 결과의  정확도는 83.816667% 입니다\n",
            "13개 트리를 부스트랩한 결과의  정확도는 83.800000% 입니다\n",
            "14개 트리를 부스트랩한 결과의  정확도는 83.833333% 입니다\n",
            "15개 트리를 부스트랩한 결과의  정확도는 83.833333% 입니다\n",
            "16개 트리를 부스트랩한 결과의  정확도는 84.050000% 입니다\n",
            "17개 트리를 부스트랩한 결과의  정확도는 84.050000% 입니다\n",
            "18개 트리를 부스트랩한 결과의  정확도는 83.916667% 입니다\n",
            "19개 트리를 부스트랩한 결과의  정확도는 84.083333% 입니다\n",
            "20개 트리를 부스트랩한 결과의  정확도는 84.316667% 입니다\n"
          ]
        }
      ]
    },
    {
      "cell_type": "code",
      "source": [
        "model = RandomForestClassifier(n_estimators = 1000, \n",
        "                                max_depth = 12,\n",
        "                                min_samples_leaf = 5,\n",
        "                                min_samples_split = 5,\n",
        "                                random_state = 0,\n",
        "                                n_jobs = -1)\n",
        "  \n",
        "model = model.fit(trainx, trainy)\n",
        "pred_test = model.predict(testx)\n",
        "m = confusion_matrix(testy, pred_test)\n",
        "acc = np.sum(np.diag(m))/len(testy)\n",
        "print('{}개 트리를 부스트랩한 결과의  정확도는 {:4f}% 입니다'.format(1000,acc*100))"
      ],
      "metadata": {
        "colab": {
          "base_uri": "https://localhost:8080/"
        },
        "id": "WPQiflpQLAvs",
        "outputId": "5b4d7c81-8095-4812-e8a1-45f25126379b"
      },
      "execution_count": null,
      "outputs": [
        {
          "output_type": "stream",
          "name": "stdout",
          "text": [
            "1000개 트리를 부스트랩한 결과의  정확도는 84.766667% 입니다\n"
          ]
        }
      ]
    },
    {
      "cell_type": "code",
      "source": [
        "fi = pd.concat([pd.DataFrame(col), pd.DataFrame(model.feature_importances_)],axis = 1)\n",
        "fi.columns = ['columns','importances'] \n",
        "print(fi)"
      ],
      "metadata": {
        "colab": {
          "base_uri": "https://localhost:8080/"
        },
        "id": "ZAC_IK9sLKpx",
        "outputId": "538ae5e1-7521-4ab6-86cb-2173be244f38"
      },
      "execution_count": null,
      "outputs": [
        {
          "output_type": "stream",
          "name": "stdout",
          "text": [
            "     columns  importances\n",
            "0         T1     0.025652\n",
            "1         T2     0.028086\n",
            "2         T3     0.026641\n",
            "3         T4     0.017517\n",
            "4         T5     0.016595\n",
            "5         T6     0.018624\n",
            "6         T7     0.249298\n",
            "7         T8     0.209620\n",
            "8         T9     0.225845\n",
            "9        T10     0.010133\n",
            "10       T11     0.010236\n",
            "11       T12     0.010179\n",
            "12       T13     0.034118\n",
            "13       T14     0.031370\n",
            "14       T15     0.030002\n",
            "15  observe1     0.045193\n",
            "16  observe2     0.010893\n"
          ]
        }
      ]
    },
    {
      "cell_type": "code",
      "source": [
        "pred_add_test=model.predict(add_testx)"
      ],
      "metadata": {
        "id": "-DGUlnUNLRCL"
      },
      "execution_count": null,
      "outputs": []
    },
    {
      "cell_type": "code",
      "source": [
        "plt.hist(pred_add_test,bins=10)"
      ],
      "metadata": {
        "colab": {
          "base_uri": "https://localhost:8080/",
          "height": 338
        },
        "id": "dTDz9in4Lblh",
        "outputId": "cd4501fb-918c-4e60-c33c-a61daa72c808"
      },
      "execution_count": null,
      "outputs": [
        {
          "output_type": "execute_result",
          "data": {
            "text/plain": [
              "(array([3052.,    0.,    0.,    0.,    0., 3120.,    0.,    0.,    0.,\n",
              "        3012.]),\n",
              " array([0. , 0.2, 0.4, 0.6, 0.8, 1. , 1.2, 1.4, 1.6, 1.8, 2. ]),\n",
              " <a list of 10 Patch objects>)"
            ]
          },
          "metadata": {},
          "execution_count": 36
        },
        {
          "output_type": "display_data",
          "data": {
            "text/plain": [
              "<Figure size 432x288 with 1 Axes>"
            ],
            "image/png": "[encoded data removed]"
          },
          "metadata": {
            "needs_background": "light"
          }
        }
      ]
    },
    {
      "cell_type": "code",
      "source": [
        "result=pd.DataFrame(pred_add_test)\n",
        "result.to_csv('Pred_test.csv')"
      ],
      "metadata": {
        "id": "oQn51PAQL_lR"
      },
      "execution_count": null,
      "outputs": []
    }
  ]
}